{
 "cells": [
  {
   "cell_type": "markdown",
   "metadata": {},
   "source": [
    "# RCM\n",
    "# 基本数据文件的数据概貌\n",
    "\n",
    "导入必要的包"
   ]
  },
  {
   "cell_type": "code",
   "execution_count": 2,
   "metadata": {},
   "outputs": [],
   "source": [
    "import numpy as np\n",
    "import netCDF4 as nc\n"
   ]
  },
  {
   "cell_type": "markdown",
   "metadata": {},
   "source": [
    "## obs数据文件概貌\n",
    "加载数据nc数据文件"
   ]
  },
  {
   "cell_type": "code",
   "execution_count": 3,
   "metadata": {},
   "outputs": [
    {
     "name": "stdout",
     "output_type": "stream",
     "text": [
      "<_io.TextIOWrapper name='..\\\\data\\\\CN_OBS_PRAVG_monthly.nc' mode='r' encoding='UTF-8'>\n",
      "<class 'netCDF4._netCDF4.Dataset'>\n",
      "root group (NETCDF3_CLASSIC data model, file format NETCDF3):\n",
      "    history: data: xiaohui zheng, 2017.4 | xiaohuiumd@gmail.com\n",
      "    data_source: CN05.1 & CRU & APHRODITE & XIE & PERSIANN\n",
      "    dimensions(sizes): time(115), lat(171), lon(231), month(12)\n",
      "    variables(dimensions): int32 time(time), int32 month(month), float32 latitude(lat, lon), float32 longitude(lat, lon), float32 PRAVG(time, month, lat, lon)\n",
      "    groups: \n",
      "dict_keys(['time', 'month', 'latitude', 'longitude', 'PRAVG'])\n",
      "time\n",
      "month\n",
      "latitude\n",
      "longitude\n",
      "PRAVG\n"
     ]
    }
   ],
   "source": [
    "nc_file = r'..\\data\\CN_OBS_PRAVG_monthly.nc'\n",
    "\n",
    "with open(nc_file) as f:\n",
    "    print(f)\n",
    "\n",
    "ncdata = nc.Dataset(nc_file)\n",
    "print(ncdata)\n",
    "\n",
    "# 查看nc文件中的变量\n",
    "print(ncdata.variables.keys())\n",
    "for k in ncdata.variables.keys():\n",
    "    print(k)\n",
    "\n"
   ]
  },
  {
   "cell_type": "code",
   "execution_count": 4,
   "metadata": {},
   "outputs": [
    {
     "name": "stdout",
     "output_type": "stream",
     "text": [
      "<class 'netCDF4._netCDF4.Variable'>\n",
      "int32 time(time)\n",
      "    calendar: gregorian\n",
      "    units: year\n",
      "    long_name: time\n",
      "    _FillValue: -2147483647\n",
      "unlimited dimensions: \n",
      "current shape = (115,)\n",
      "filling on\n",
      "<class 'netCDF4._netCDF4.Variable'>\n",
      "int32 month(month)\n",
      "    units: month\n",
      "    _FillValue: -2147483647\n",
      "unlimited dimensions: \n",
      "current shape = (12,)\n",
      "filling on\n",
      "<class 'netCDF4._netCDF4.Variable'>\n",
      "float32 latitude(lat, lon)\n",
      "    long_name: latitude\n",
      "    units: degrees_north\n",
      "unlimited dimensions: \n",
      "current shape = (171, 231)\n",
      "filling on, default _FillValue of 9.969209968386869e+36 used\n",
      "<class 'netCDF4._netCDF4.Variable'>\n",
      "float32 longitude(lat, lon)\n",
      "    long_name: longitude\n",
      "    units: degrees_east\n",
      "unlimited dimensions: \n",
      "current shape = (171, 231)\n",
      "filling on, default _FillValue of 9.969209968386869e+36 used\n",
      "<class 'netCDF4._netCDF4.Variable'>\n",
      "float32 PRAVG(time, month, lat, lon)\n",
      "    long_name: daily mean precipitation\n",
      "    units: mm/day\n",
      "    _FillValue: 1e+20\n",
      "unlimited dimensions: \n",
      "current shape = (115, 12, 171, 231)\n",
      "filling on\n"
     ]
    }
   ],
   "source": [
    "# 查看每个变量的信息\n",
    "print(ncdata.variables['time'])\n",
    "print(ncdata.variables['month'])\n",
    "print(ncdata.variables['latitude'])\n",
    "print(ncdata.variables['longitude'])\n",
    "print(ncdata.variables['PRAVG'])\n",
    "\n"
   ]
  },
  {
   "cell_type": "code",
   "execution_count": 5,
   "metadata": {},
   "outputs": [
    {
     "name": "stdout",
     "output_type": "stream",
     "text": [
      "['calendar', 'units', 'long_name', '_FillValue']\n",
      "['units', '_FillValue']\n",
      "['long_name', 'units']\n",
      "['long_name', 'units']\n",
      "['long_name', 'units', '_FillValue']\n"
     ]
    }
   ],
   "source": [
    "# 查看每个变量的属性\n",
    "print(ncdata.variables['time'].ncattrs())\n",
    "print(ncdata.variables['month'].ncattrs())\n",
    "print(ncdata.variables['latitude'].ncattrs())\n",
    "print(ncdata.variables['longitude'].ncattrs())\n",
    "print(ncdata.variables['PRAVG'].ncattrs())"
   ]
  },
  {
   "cell_type": "code",
   "execution_count": 6,
   "metadata": {},
   "outputs": [
    {
     "name": "stdout",
     "output_type": "stream",
     "text": [
      "time:\n",
      " (115,) [1901 1902 1903 1904 1905 1906 1907 1908 1909 1910 1911 1912 1913 1914\n",
      " 1915 1916 1917 1918 1919 1920 1921 1922 1923 1924 1925 1926 1927 1928\n",
      " 1929 1930 1931 1932 1933 1934 1935 1936 1937 1938 1939 1940 1941 1942\n",
      " 1943 1944 1945 1946 1947 1948 1949 1950 1951 1952 1953 1954 1955 1956\n",
      " 1957 1958 1959 1960 1961 1962 1963 1964 1965 1966 1967 1968 1969 1970\n",
      " 1971 1972 1973 1974 1975 1976 1977 1978 1979 1980 1981 1982 1983 1984\n",
      " 1985 1986 1987 1988 1989 1990 1991 1992 1993 1994 1995 1996 1997 1998\n",
      " 1999 2000 2001 2002 2003 2004 2005 2006 2007 2008 2009 2010 2011 2012\n",
      " 2013 2014 2015]\n"
     ]
    }
   ],
   "source": [
    "time = ncdata.variables['time']\n",
    "print('time:\\n', time.shape, time[:])\n"
   ]
  },
  {
   "cell_type": "code",
   "execution_count": 7,
   "metadata": {},
   "outputs": [
    {
     "name": "stdout",
     "output_type": "stream",
     "text": [
      "month:\n",
      " [ 1  2  3  4  5  6  7  8  9 10 11 12]\n"
     ]
    }
   ],
   "source": [
    "month = ncdata.variables['month']\n",
    "print('month:\\n', month[:])"
   ]
  },
  {
   "cell_type": "code",
   "execution_count": 8,
   "metadata": {},
   "outputs": [
    {
     "name": "stdout",
     "output_type": "stream",
     "text": [
      "longitude:\n",
      " (171, 231)\n",
      "161.60205 58.39795\n"
     ]
    }
   ],
   "source": [
    "longitude = ncdata.variables['longitude']\n",
    "print('longitude:\\n', longitude.shape)\n",
    "print(np.max(longitude), np.min(longitude))"
   ]
  },
  {
   "cell_type": "code",
   "execution_count": 9,
   "metadata": {},
   "outputs": [
    {
     "name": "stdout",
     "output_type": "stream",
     "text": [
      "latitude:\n",
      " (171, 231)\n",
      "58.746147 8.365265\n"
     ]
    }
   ],
   "source": [
    "latitude = ncdata.variables['latitude']\n",
    "print('latitude:\\n', latitude.shape)\n",
    "print(np.max(latitude), np.min(latitude))"
   ]
  },
  {
   "cell_type": "code",
   "execution_count": 10,
   "metadata": {},
   "outputs": [
    {
     "name": "stdout",
     "output_type": "stream",
     "text": [
      "PRAVG:\n",
      " (115, 12, 171, 231)\n",
      "128.69958\n",
      "0.0\n",
      "2.417877057894977\n",
      "3.4157916626357743\n"
     ]
    }
   ],
   "source": [
    "pravg = ncdata.variables['PRAVG'][:]\n",
    "print('PRAVG:\\n', pravg.shape)\n",
    "print(np.max(pravg))\n",
    "print(np.min(pravg))\n",
    "print(np.average(pravg))\n",
    "print(np.std(pravg))"
   ]
  },
  {
   "cell_type": "markdown",
   "metadata": {},
   "source": [
    "obs逐月降水特征统计"
   ]
  },
  {
   "cell_type": "code",
   "execution_count": 11,
   "metadata": {},
   "outputs": [
    {
     "name": "stdout",
     "output_type": "stream",
     "text": [
      "month 1 info:\n",
      "max: 31.983332\n",
      "min: 0.0\n",
      "avg: 0.7803781236309728\n",
      "std: 1.3891837069238786\n",
      "****************************** \n",
      "\n",
      "month 2 info:\n",
      "max: 39.95687\n",
      "min: 0.0\n",
      "avg: 0.8295976600485586\n",
      "std: 1.3332840909942747\n",
      "****************************** \n",
      "\n",
      "month 3 info:\n",
      "max: 28.431084\n",
      "min: 0.0\n",
      "avg: 1.0879810917194637\n",
      "std: 1.574133829066306\n",
      "****************************** \n",
      "\n",
      "month 4 info:\n",
      "max: 45.573334\n",
      "min: 0.0\n",
      "avg: 1.6129543221304365\n",
      "std: 2.0150289353234068\n",
      "****************************** \n",
      "\n",
      "month 5 info:\n",
      "max: 69.23563\n",
      "min: 0.0\n",
      "avg: 2.7068421900117574\n",
      "std: 3.0030401578017067\n",
      "****************************** \n",
      "\n",
      "month 6 info:\n",
      "max: 128.69958\n",
      "min: 0.0\n",
      "avg: 4.066950809624518\n",
      "std: 4.465712412536372\n",
      "****************************** \n",
      "\n",
      "month 7 info:\n",
      "max: 103.39322\n",
      "min: 0.0\n",
      "avg: 4.8634308672927045\n",
      "std: 4.658692329910924\n",
      "****************************** \n",
      "\n",
      "month 8 info:\n",
      "max: 105.573326\n",
      "min: 0.0\n",
      "avg: 4.771547682552705\n",
      "std: 4.59667902164208\n",
      "****************************** \n",
      "\n",
      "month 9 info:\n",
      "max: 79.013336\n",
      "min: 0.0\n",
      "avg: 3.627674072794691\n",
      "std: 3.76756755674673\n",
      "****************************** \n",
      "\n",
      "month 10 info:\n",
      "max: 50.7375\n",
      "min: 0.0\n",
      "avg: 2.245191744021858\n",
      "std: 2.8925420641473054\n",
      "****************************** \n",
      "\n",
      "month 11 info:\n",
      "max: 64.28333\n",
      "min: 0.0\n",
      "avg: 1.4571034390113649\n",
      "std: 2.342732868717049\n",
      "****************************** \n",
      "\n",
      "month 12 info:\n",
      "max: 61.50333\n",
      "min: 0.0\n",
      "avg: 0.9648670696123259\n",
      "std: 1.8575892346644691\n",
      "****************************** \n",
      "\n"
     ]
    }
   ],
   "source": [
    "for month in range(12):\n",
    "    thismonth = pravg[:, month, : , :]\n",
    "    print(f'month {month + 1} info:')\n",
    "    print('max:', np.max(thismonth))\n",
    "    print('min:', np.min(thismonth))\n",
    "    print('avg:', np.average(thismonth))\n",
    "    print('std:', np.std(thismonth))\n",
    "    print('*' * 30, '\\n')"
   ]
  },
  {
   "cell_type": "markdown",
   "metadata": {},
   "source": [
    "## case数据文件概貌\n"
   ]
  },
  {
   "cell_type": "code",
   "execution_count": 12,
   "metadata": {},
   "outputs": [
    {
     "name": "stdout",
     "output_type": "stream",
     "text": [
      "<_io.TextIOWrapper name='..\\\\data\\\\PRAVG_2020032700c01_2020_monthly.nc' mode='r' encoding='UTF-8'>\n",
      "<class 'netCDF4._netCDF4.Dataset'>\n",
      "root group (NETCDF4 data model, file format HDF5):\n",
      "    CDI: Climate Data Interface version 1.8.2 (http://mpimet.mpg.de/cdi)\n",
      "    Conventions: CF-1.6\n",
      "    history: Sun Nov 14 18:39:52 2021: cdo -O -r setgrid,/home/export/online2/Wangfang/BCC_Reforecast_Run_Hybrid/2D-Aerosol/0327/POST_C01_GCMSST/SRC/grid_wrf processmonthly_PRAVG_monthly.nc /home/export/online2/Wangfang/BCC_Reforecast_Run_Hybrid/2D-Aerosol/0327/POST_C01_GCMSST/SRC/../../POST_C01_GCMSST/2020/20200327/2020032700/2020032700c01/PRAVG_2020032700c01_2020_monthly.nc\n",
      "Created by CWRF_Post Sun Nov 14 18:39:49 2021\n",
      "    source: numpy+netcdf4-py+scipy\n",
      "    CDO: Climate Data Operators version 1.8.2 (http://mpimet.mpg.de/cdo)\n",
      "    dimensions(sizes): lon(231), lat(171), time(8)\n",
      "    variables(dimensions): float32 XLONG(lat, lon), float32 XLAT(lat, lon), float64 time(time), float32 PRAVG(time, lat, lon)\n",
      "    groups: \n"
     ]
    }
   ],
   "source": [
    "case_file = r'..\\data\\PRAVG_2020032700c01_2020_monthly.nc'\n",
    "with open(case_file, 'r') as f:\n",
    "    print(f)\n",
    "case_data = nc.Dataset(case_file)\n",
    "print(case_data)"
   ]
  },
  {
   "cell_type": "code",
   "execution_count": 13,
   "metadata": {},
   "outputs": [
    {
     "name": "stdout",
     "output_type": "stream",
     "text": [
      "dict_keys(['XLONG', 'XLAT', 'time', 'PRAVG'])\n",
      "XLONG\n",
      "XLAT\n",
      "time\n",
      "PRAVG\n"
     ]
    }
   ],
   "source": [
    "# 查看nc文件中的变量\n",
    "print(case_data.variables.keys())\n",
    "for k in case_data.variables.keys():\n",
    "    print(k)"
   ]
  },
  {
   "cell_type": "code",
   "execution_count": 14,
   "metadata": {},
   "outputs": [
    {
     "name": "stdout",
     "output_type": "stream",
     "text": [
      "<class 'netCDF4._netCDF4.Variable'>\n",
      "float64 time(time)\n",
      "    standard_name: time\n",
      "    units: days since 0001-01-01 00:00\n",
      "    calendar: standard\n",
      "    axis: T\n",
      "unlimited dimensions: time\n",
      "current shape = (8,)\n",
      "filling off\n",
      "<class 'netCDF4._netCDF4.Variable'>\n",
      "float32 XLONG(lat, lon)\n",
      "    standard_name: longitude\n",
      "    long_name: longitude\n",
      "    units: degree_east\n",
      "    _CoordinateAxisType: Lon\n",
      "unlimited dimensions: \n",
      "current shape = (171, 231)\n",
      "filling off\n",
      "<class 'netCDF4._netCDF4.Variable'>\n",
      "float32 XLAT(lat, lon)\n",
      "    standard_name: latitude\n",
      "    long_name: latitude\n",
      "    units: degree_north\n",
      "    _CoordinateAxisType: Lat\n",
      "unlimited dimensions: \n",
      "current shape = (171, 231)\n",
      "filling off\n",
      "<class 'netCDF4._netCDF4.Variable'>\n",
      "float32 PRAVG(time, lat, lon)\n",
      "    coordinates: XLAT XLONG\n",
      "unlimited dimensions: time\n",
      "current shape = (8, 171, 231)\n",
      "filling off\n"
     ]
    }
   ],
   "source": [
    "# 查看每个变量的信息\n",
    "print(case_data.variables['time'])\n",
    "print(case_data.variables['XLONG'])\n",
    "print(case_data.variables['XLAT'])\n",
    "print(case_data.variables['PRAVG'])"
   ]
  },
  {
   "cell_type": "code",
   "execution_count": 15,
   "metadata": {},
   "outputs": [
    {
     "name": "stdout",
     "output_type": "stream",
     "text": [
      "['standard_name', 'units', 'calendar', 'axis']\n",
      "['standard_name', 'long_name', 'units', '_CoordinateAxisType']\n",
      "['standard_name', 'long_name', 'units', '_CoordinateAxisType']\n",
      "['coordinates']\n"
     ]
    }
   ],
   "source": [
    "# 查看每个变量的属性\n",
    "print(case_data.variables['time'].ncattrs())\n",
    "print(case_data.variables['XLONG'].ncattrs())\n",
    "print(case_data.variables['XLAT'].ncattrs())\n",
    "print(case_data.variables['PRAVG'].ncattrs())"
   ]
  },
  {
   "cell_type": "code",
   "execution_count": 16,
   "metadata": {},
   "outputs": [
    {
     "name": "stdout",
     "output_type": "stream",
     "text": [
      "time:\n",
      " (8,) [737517. 737547. 737578. 737608. 737639. 737670. 737700. 737731.]\n",
      "<class 'datetime.datetime'>\n",
      "0001-01-01 00:00:00\n",
      "<class 'datetime.datetime'>\n",
      "<class 'datetime.datetime'>\n",
      "2020\n",
      "4\n"
     ]
    }
   ],
   "source": [
    "case_time = case_data.variables['time'][:]\n",
    "print('time:\\n', case_time.shape, case_time)\n",
    "\n",
    "import datetime\n",
    "\n",
    "time_startpoint = datetime.datetime(1, 1, 1, 00, 00)\n",
    "print(type(time_startpoint))\n",
    "print(time_startpoint)\n",
    "print(type(datetime.datetime.now()))\n",
    "\n",
    "time_temp = time_startpoint + datetime.timedelta(days=case_time[0])\n",
    "print(type(time_temp))\n",
    "print(time_temp.year)\n",
    "print(time_temp.month)\n",
    "\n",
    "\n",
    "\n"
   ]
  },
  {
   "cell_type": "code",
   "execution_count": 17,
   "metadata": {},
   "outputs": [
    {
     "name": "stdout",
     "output_type": "stream",
     "text": [
      "latitude:\n",
      " (171, 231)\n",
      "58.746147\n",
      "8.365265\n"
     ]
    }
   ],
   "source": [
    "case_latitude = case_data.variables['XLAT']\n",
    "print('latitude:\\n', case_latitude.shape)\n",
    "print(np.max(case_latitude))\n",
    "print(np.min(case_latitude))"
   ]
  },
  {
   "cell_type": "code",
   "execution_count": 18,
   "metadata": {},
   "outputs": [
    {
     "name": "stdout",
     "output_type": "stream",
     "text": [
      "longitude:\n",
      " (171, 231)\n",
      "161.60205\n",
      "58.39795\n"
     ]
    }
   ],
   "source": [
    "case_longitude = case_data.variables['XLONG']\n",
    "print('longitude:\\n', case_longitude.shape)\n",
    "print(np.max(case_longitude))\n",
    "print(np.min(case_longitude))"
   ]
  },
  {
   "cell_type": "code",
   "execution_count": 19,
   "metadata": {},
   "outputs": [
    {
     "name": "stdout",
     "output_type": "stream",
     "text": [
      "PRAVG:\n",
      " (8, 171, 231)\n",
      "164.46945\n",
      "0.0\n",
      "6.4219236\n",
      "9.406678\n",
      "******************************\n",
      "2020 4\n",
      "min: 0.0\n",
      "max: 51.763237\n",
      "average: 3.624224\n",
      "std: 4.8427176\n",
      "******************************\n",
      "2020 5\n",
      "min: 0.0\n",
      "max: 99.3047\n",
      "average: 5.410038\n",
      "std: 6.4899936\n",
      "******************************\n",
      "2020 6\n",
      "min: 0.0\n",
      "max: 160.55464\n",
      "average: 8.45379\n",
      "std: 12.192891\n",
      "******************************\n",
      "2020 7\n",
      "min: 0.0\n",
      "max: 164.46945\n",
      "average: 8.718192\n",
      "std: 11.412179\n",
      "******************************\n",
      "2020 8\n",
      "min: 0.0\n",
      "max: 154.22029\n",
      "average: 8.702393\n",
      "std: 11.734824\n",
      "******************************\n",
      "2020 9\n",
      "min: 0.0\n",
      "max: 98.48688\n",
      "average: 7.2554016\n",
      "std: 9.869032\n",
      "******************************\n",
      "2020 10\n",
      "min: 0.0\n",
      "max: 89.25092\n",
      "average: 5.1107273\n",
      "std: 7.0198545\n",
      "******************************\n",
      "2020 11\n",
      "min: 0.0\n",
      "max: 104.634476\n",
      "average: 4.100625\n",
      "std: 6.911662\n"
     ]
    }
   ],
   "source": [
    "case_pravg = case_data.variables['PRAVG'][:] *3600*34\n",
    "print('PRAVG:\\n', case_pravg.shape)\n",
    "print(np.max(case_pravg))\n",
    "print(np.min(case_pravg))\n",
    "print(np.average(case_pravg))\n",
    "print(np.std(case_pravg))\n",
    "\n",
    "for ix, onetime in enumerate(case_time):\n",
    "    # print(time_ix)\n",
    "    print('*' * 30)\n",
    "    time_temp = datetime.datetime(1, 1, 1, 00, 00) + \\\n",
    "        datetime.timedelta(days=onetime)\n",
    "    print(time_temp.year, time_temp.month)\n",
    "    print('min:', np.min(case_pravg[ix, :, :]))\n",
    "    print('max:', np.max(case_pravg[ix, :, :]))\n",
    "    print('average:', np.average(case_pravg[ix, :, :]))\n",
    "    print('std:', np.std(case_pravg[ix, :, :]))\n",
    "    \n",
    "    \n",
    "\n"
   ]
  },
  {
   "cell_type": "markdown",
   "metadata": {},
   "source": [
    "## 确定长江流域经纬度对应的起止位置\n",
    "金沙江流域  <br>\n",
    "\t&emsp; 经度范围：90-100 <br>\n",
    "    &emsp; 纬度范围：26-36 <br>\n",
    "    &emsp; areaa_row_min_ix = 53 <br>\n",
    "    &emsp; aeraa_row_max_ix = 95 <br>\n",
    "    &emsp; areaa_col_min_ix = 48 <br>\n",
    "    &emsp; areaa_col_max_ix = 86 <br>\n",
    "    &emsp; 区域大小：(95-52) * (86-47) = 43*39 <br>\n",
    "\n",
    "<br>\n",
    "长江上游\t<br>\n",
    "    &emsp; 经度范围：100-110 <br>\n",
    "    &emsp; 纬度范围：24-35 <br>\n",
    "    &emsp; areab_row_min_ix = 46 <br>\n",
    "    &emsp; aerab_row_max_ix = 87 <br>\n",
    "    &emsp; areab_col_min_ix = 80 <br>\n",
    "    &emsp; areab_col_max_ix = 115 <br>\n",
    "    &emsp; 区域大小：(87-45) * (115-79) = 42*36 <br>\n",
    "    \n",
    "<br>\n",
    "长江中下游 <br>\n",
    "\t&emsp; 经度范围：110-122 <br>\n",
    "    &emsp; 纬度范围：24-35 <br>\n",
    "    &emsp; areac_row_min_ix = 46 <br>\n",
    "    &emsp; aerac_row_max_ix = 87 <br>\n",
    "    &emsp; areac_col_min_ix = 116 <br>\n",
    "    &emsp; areac_col_max_ix = 157 <br>\n",
    "    &emsp; 区域大小：(87-45) * (157-115) = 42*42 <br>\n"
   ]
  },
  {
   "cell_type": "code",
   "execution_count": 42,
   "metadata": {},
   "outputs": [
    {
     "name": "stdout",
     "output_type": "stream",
     "text": [
      "0.1584549\n",
      "[46] [80]\n",
      "[[99.93713]] [[24.095589]]\n",
      "0.14776993\n",
      "[86] [85]\n",
      "[[99.91931]] [[34.93292]]\n",
      "0.19284058\n",
      "[47] [157]\n",
      "[[122.09067]] [[24.102173]]\n",
      "0.1420517\n",
      "[87] [151]\n",
      "[[122.11929]] [[34.97724]]\n",
      "******************************\n",
      "90.526 24.361298\n",
      "87.1174 35.276978\n",
      "101.43356 26.109486\n",
      "99.871216 37.42937\n",
      "******************************\n",
      "99.93713 24.095589\n",
      "98.21246 35.01812\n",
      "110.0 24.673027\n",
      "110.0 35.72815\n",
      "******************************\n",
      "110.28903 24.672554\n",
      "110.33923 35.727573\n",
      "122.04767 23.843567\n",
      "124.100555 34.70859\n",
      "Done\n"
     ]
    }
   ],
   "source": [
    "assert longitude.shape == case_longitude.shape, '经度尺寸不一致'\n",
    "assert latitude.shape == case_latitude.shape, '纬度尺寸不一致'\n",
    "\n",
    "# for i in range(longitude.shape[0]):\n",
    "#     for j in range(longitude.shape[1]):\n",
    "#         if np.abs(longitude[i, j] - case_longitude[i, j]) > 1e-6:\n",
    "#             print(i, j)\n",
    "#         if np.abs(latitude[i, j] - case_latitude[i, j]) > 1e-6:\n",
    "#             print(i, j)\n",
    "\n",
    "areaa = np.abs(longitude[:] - 100) + np.abs(latitude[:] - 24)\n",
    "print(np.min(areaa))\n",
    "ramin1, camin1 = np.where(areaa == np.min(areaa))\n",
    "print(ramin1, camin1)\n",
    "print(longitude[ramin1, camin1], latitude[ramin1, camin1])\n",
    "\n",
    "\n",
    "areaa = np.abs(longitude[:] - 100) + np.abs(latitude[:] - 35)\n",
    "print(np.min(areaa))\n",
    "ramin2, camin2 = np.where(areaa == np.min(areaa))\n",
    "print(ramin2, camin2)\n",
    "print(longitude[ramin2, camin2], latitude[ramin2, camin2])\n",
    "\n",
    "\n",
    "areaa = np.abs(longitude[:] - 122) + np.abs(latitude[:] - 24)\n",
    "print(np.min(areaa))\n",
    "ramax3, camax3 = np.where(areaa == np.min(areaa))\n",
    "print(ramax3, camax3)\n",
    "print(longitude[ramax3, camax3], latitude[ramax3, camax3])\n",
    "\n",
    "\n",
    "areaa = np.abs(longitude[:] - 122) + np.abs(latitude[:] - 35)\n",
    "print(np.min(areaa))\n",
    "ramax4, camax4 = np.where(areaa == np.min(areaa))\n",
    "print(ramax4, camax4)\n",
    "print(longitude[ramax4, camax4], latitude[ramax4, camax4])\n",
    "\n",
    "\n",
    "print('*' * 30)\n",
    "\n",
    "areaa_row_min_ix = 53\n",
    "aeraa_row_max_ix = 95\n",
    "\n",
    "areaa_col_min_ix = 48\n",
    "areaa_col_max_ix = 86\n",
    "\n",
    "print(longitude[areaa_row_min_ix, areaa_col_min_ix],\n",
    "      latitude[areaa_row_min_ix, areaa_col_min_ix])\n",
    "\n",
    "print(longitude[aeraa_row_max_ix, areaa_col_min_ix],\n",
    "      latitude[aeraa_row_max_ix, areaa_col_min_ix])\n",
    "\n",
    "print(longitude[areaa_row_min_ix, areaa_col_max_ix],\n",
    "      latitude[areaa_row_min_ix, areaa_col_max_ix])\n",
    "\n",
    "print(longitude[aeraa_row_max_ix, areaa_col_max_ix],\n",
    "      latitude[aeraa_row_max_ix, areaa_col_max_ix])\n",
    "\n",
    "print('*' * 30)\n",
    "areab_row_min_ix = 46\n",
    "aerab_row_max_ix = 87\n",
    "\n",
    "areab_col_min_ix = 80\n",
    "areab_col_max_ix = 115\n",
    "\n",
    "print(longitude[areab_row_min_ix, areab_col_min_ix],\n",
    "      latitude[areab_row_min_ix, areab_col_min_ix])\n",
    "\n",
    "print(longitude[aerab_row_max_ix, areab_col_min_ix],\n",
    "      latitude[aerab_row_max_ix, areab_col_min_ix])\n",
    "\n",
    "print(longitude[areab_row_min_ix, areab_col_max_ix],\n",
    "      latitude[areab_row_min_ix, areab_col_max_ix])\n",
    "\n",
    "print(longitude[aerab_row_max_ix, areab_col_max_ix],\n",
    "      latitude[aerab_row_max_ix, areab_col_max_ix])\n",
    "\n",
    "\n",
    "print('*' * 30)\n",
    "areac_row_min_ix = 46\n",
    "aerac_row_max_ix = 87\n",
    "\n",
    "areac_col_min_ix = 116\n",
    "areac_col_max_ix = 157\n",
    "\n",
    "print(longitude[areac_row_min_ix, areac_col_min_ix],\n",
    "      latitude[areac_row_min_ix, areac_col_min_ix])\n",
    "\n",
    "print(longitude[aerac_row_max_ix, areac_col_min_ix],\n",
    "      latitude[aerac_row_max_ix, areac_col_min_ix])\n",
    "\n",
    "print(longitude[areac_row_min_ix, areac_col_max_ix],\n",
    "      latitude[areac_row_min_ix, areac_col_max_ix])\n",
    "\n",
    "print(longitude[aerac_row_max_ix, areac_col_max_ix],\n",
    "      latitude[aerac_row_max_ix, areac_col_max_ix])\n",
    "\n",
    "\n",
    "print('Done')"
   ]
  }
 ],
 "metadata": {
  "kernelspec": {
   "display_name": "Python 3.7.11 ('py37rcmcorrection')",
   "language": "python",
   "name": "python3"
  },
  "language_info": {
   "codemirror_mode": {
    "name": "ipython",
    "version": 3
   },
   "file_extension": ".py",
   "mimetype": "text/x-python",
   "name": "python",
   "nbconvert_exporter": "python",
   "pygments_lexer": "ipython3",
   "version": "3.7.13"
  },
  "orig_nbformat": 4,
  "vscode": {
   "interpreter": {
    "hash": "b6803d9a16d54302a13b56b3e00c9489202df55fbf5ea2026e76cef1713d0da0"
   }
  }
 },
 "nbformat": 4,
 "nbformat_minor": 2
}
